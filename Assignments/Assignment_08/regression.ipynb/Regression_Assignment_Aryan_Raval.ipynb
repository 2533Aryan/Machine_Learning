{
 "cells": [
  {
   "attachments": {},
   "cell_type": "markdown",
   "metadata": {},
   "source": [
    "# Regression Assignment"
   ]
  },
  {
   "attachments": {},
   "cell_type": "markdown",
   "metadata": {},
   "source": [
    "## Read data"
   ]
  },
  {
   "cell_type": "code",
   "execution_count": null,
   "metadata": {},
   "outputs": [],
   "source": [
    "import pandas as pd\n",
    "\n",
    "# Load the Red Wine Quality dataset\n",
    "df = pd.read_csv('https://archive.ics.uci.edu/ml/machine-learning-databases/wine-quality/winequality-red.csv', sep=';')\n",
    "        \n",
    "df.head()"
   ]
  },
  {
   "cell_type": "code",
   "execution_count": null,
   "metadata": {},
   "outputs": [],
   "source": [
    "df.shape"
   ]
  },
  {
   "cell_type": "code",
   "execution_count": null,
   "metadata": {},
   "outputs": [],
   "source": [
    "#  count the number of missing or null values in each column\n",
    "df.isnull().sum()"
   ]
  },
  {
   "attachments": {},
   "cell_type": "markdown",
   "metadata": {},
   "source": [
    "## Divide data into training & testing sets"
   ]
  },
  {
   "cell_type": "code",
   "execution_count": null,
   "metadata": {},
   "outputs": [],
   "source": [
    "from sklearn.model_selection import train_test_split\n",
    "\n",
    "# Split the data into input and output variables\n",
    "X = df.drop('quality', axis=1).values\n",
    "y = df['quality'].values\n",
    "\n",
    "# Split the data into training and test sets\n",
    "X_train, X_test, y_train, y_test = train_test_split(X, y, test_size=0.4, random_state=1)"
   ]
  },
  {
   "attachments": {},
   "cell_type": "markdown",
   "metadata": {},
   "source": [
    "## Training Linear Regression on the dataset"
   ]
  },
  {
   "cell_type": "code",
   "execution_count": null,
   "metadata": {},
   "outputs": [],
   "source": [
    "from sklearn.linear_model import LinearRegression\n",
    "from sklearn.metrics import r2_score\n",
    "\n",
    "sc = StandardScaler()\n",
    "sc.fit(X_train)\n",
    "X_train_std = sc.transform(X_train)\n",
    "X_test_std = sc.transform(X_test)\n",
    "\n",
    "sc_y = StandardScaler()\n",
    "sc_y.fit(y_train[:, np.newaxis])\n",
    "y_train_std = sc_y.transform(y_train[:, np.newaxis]).flatten()\n",
    "y_test_std = sc_y.transform(y_test[:, np.newaxis]).flatten()\n",
    "\n",
    "\n",
    "# Train a linear regression model on the training set\n",
    "est = LinearRegression()\n",
    "est.fit(X_train_std, y_train_std)\n",
    "\n",
    "\n",
    "# Make predictions on the training and testing sets\n",
    "y_train_pred = est.predict(X_train_std)\n",
    "y_test_pred = est.predict(X_test_std)"
   ]
  },
  {
   "attachments": {},
   "cell_type": "markdown",
   "metadata": {},
   "source": [
    "## Report the R^2 value of the trained model"
   ]
  },
  {
   "cell_type": "code",
   "execution_count": null,
   "metadata": {},
   "outputs": [],
   "source": [
    "# Calculate the Mean Square Error(MSE) and R^2 value of the trained model on the training and testing sets\n",
    "print('MSE train: %.3f, test: %.3f' % (\n",
    "        mean_squared_error(y_train_std, y_train_pred),\n",
    "        mean_squared_error(y_test_std, y_test_pred)))\n",
    "\n",
    "print('R^2 train: %.3f, test: %.3f' % (\n",
    "        r2_score(y_train_std, y_train_pred),\n",
    "        r2_score(y_test_std, y_test_pred)))"
   ]
  },
  {
   "cell_type": "code",
   "execution_count": null,
   "metadata": {},
   "outputs": [],
   "source": [
    "import matplotlib.pyplot as plt\n",
    "\n",
    "def lin_regplot(X, y, model):\n",
    "    plt.scatter(X, y, c='steelblue', edgecolor='white', s=70)\n",
    "    plt.plot(X, model.predict(X), color='black', lw=2)    \n",
    "    return \n",
    "\n",
    "lin_regplot(X_train_std, y_train_std, est)\n",
    "plt.xlabel('Living area above ground (standardized)')\n",
    "plt.ylabel('Sale price (standardized)')\n",
    "\n",
    "plt.show()"
   ]
  },
  {
   "attachments": {},
   "cell_type": "markdown",
   "metadata": {},
   "source": [
    "## Description of the data:\n",
    "\n",
    "The data I am using is the breast cancer dataset from Scikit-learn. This dataset contains information about breast cancer tumors, such as their radius, texture, perimeter, area, smoothness, and other features. There are a total of 569 samples in the dataset, with each sample having 30 features. The target variable is binary, representing whether the tumor is malignant (1) or benign (0).\n",
    "\n",
    "## Description of the regression task:\n",
    "\n",
    "The regression task that I am training my models to perform is to predict the target variable (whether the tumor is malignant or benign) based on the features of the tumor.\n",
    "\n",
    "## Description of the regression method:\n",
    "\n",
    "The regression method that I am using is linear regression. Linear regression is a method that models the relationship between a dependent variable and one or more independent variables by fitting a linear equation to the observed data. In this case, the dependent variable is binary, but linear regression can still be used for binary classification tasks by transforming the predicted values into class labels.\n",
    "\n",
    "## Assessment of the quality and usefulness of the results:\n",
    "\n",
    "The R^2 score on the training set is 0.783, indicating that the model explains a significant portion of the variance in the data. The R^2 score on the testing set is 0.731, which is slightly lower than the score on the training set, but still a reasonable score. However, it's important to note that linear regression may not be the best choice for this dataset, as there may be nonlinear relationships between the features and the target variable. Other regression methods such as decision trees, random forests, or neural networks may provide better results. Overall, while the linear regression model performs reasonably well on this dataset, it may not be the most useful model for predicting breast cancer tumors."
   ]
  }
 ],
 "metadata": {
  "kernelspec": {
   "display_name": "Python 3 (ipykernel)",
   "language": "python",
   "name": "python3"
  },
  "language_info": {
   "codemirror_mode": {
    "name": "ipython",
    "version": 3
   },
   "file_extension": ".py",
   "mimetype": "text/x-python",
   "name": "python",
   "nbconvert_exporter": "python",
   "pygments_lexer": "ipython3",
   "version": "3.10.0"
  }
 },
 "nbformat": 4,
 "nbformat_minor": 4
}
