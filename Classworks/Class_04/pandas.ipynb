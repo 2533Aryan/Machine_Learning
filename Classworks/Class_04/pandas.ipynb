{
 "cells": [
  {
   "cell_type": "code",
   "execution_count": null,
   "id": "fb79b9a4",
   "metadata": {},
   "outputs": [],
   "source": [
    "%matplotlib inline\n",
    "\n",
    "from matplotlib import pyplot as plt \n",
    "import numpy as np\n",
    "\n",
    "plt.rcdefaults() # set the matplotlib runtime configuration (rc) to its defaults"
   ]
  },
  {
   "cell_type": "code",
   "execution_count": null,
   "id": "96c045dc",
   "metadata": {},
   "outputs": [],
   "source": [
    "import pandas as pd\n",
    "\n",
    "records = pd.read_csv('populationbycountry19802010millions.csv', index_col=0)"
   ]
  },
  {
   "cell_type": "code",
   "execution_count": null,
   "id": "2a55e467",
   "metadata": {},
   "outputs": [],
   "source": [
    "records"
   ]
  },
  {
   "cell_type": "code",
   "execution_count": null,
   "id": "259352be",
   "metadata": {},
   "outputs": [],
   "source": [
    "len(records)"
   ]
  },
  {
   "cell_type": "code",
   "execution_count": null,
   "id": "c21d6557",
   "metadata": {},
   "outputs": [],
   "source": [
    "help(records)"
   ]
  },
  {
   "cell_type": "code",
   "execution_count": null,
   "id": "e13f3830",
   "metadata": {},
   "outputs": [],
   "source": [
    "records?"
   ]
  },
  {
   "cell_type": "code",
   "execution_count": null,
   "id": "8e0b4b05",
   "metadata": {},
   "outputs": [],
   "source": [
    "records['1980']"
   ]
  },
  {
   "cell_type": "code",
   "execution_count": null,
   "id": "3b910d60",
   "metadata": {},
   "outputs": [],
   "source": [
    "records.T"
   ]
  },
  {
   "cell_type": "code",
   "execution_count": null,
   "id": "a22c4d09",
   "metadata": {},
   "outputs": [],
   "source": [
    "records.T['North America']"
   ]
  },
  {
   "cell_type": "code",
   "execution_count": null,
   "id": "736139ff",
   "metadata": {},
   "outputs": [],
   "source": [
    "records.T['North America'][0]"
   ]
  },
  {
   "cell_type": "code",
   "execution_count": null,
   "id": "dec3afc8",
   "metadata": {},
   "outputs": [],
   "source": [
    "type(records.T['North America'][0])"
   ]
  },
  {
   "cell_type": "code",
   "execution_count": null,
   "id": "88565a4d",
   "metadata": {},
   "outputs": [],
   "source": [
    "nrecs = records.apply(pd.to_numeric, errors=\"coerce\")"
   ]
  },
  {
   "cell_type": "code",
   "execution_count": null,
   "id": "9204155c",
   "metadata": {},
   "outputs": [],
   "source": [
    "nrecs.T['North America'][0]"
   ]
  },
  {
   "cell_type": "code",
   "execution_count": null,
   "id": "b3ce4d78",
   "metadata": {},
   "outputs": [],
   "source": [
    "type(nrecs.T['North America'][0])"
   ]
  },
  {
   "cell_type": "code",
   "execution_count": null,
   "id": "96524811",
   "metadata": {},
   "outputs": [],
   "source": [
    "nrecs.T['North America'].plot()"
   ]
  },
  {
   "cell_type": "code",
   "execution_count": null,
   "id": "93c8bb82",
   "metadata": {},
   "outputs": [],
   "source": [
    "nrecs.T['Sierra Leone'].plot()"
   ]
  }
 ],
 "metadata": {
  "kernelspec": {
   "display_name": "Python 3 (ipykernel)",
   "language": "python",
   "name": "python3"
  },
  "language_info": {
   "codemirror_mode": {
    "name": "ipython",
    "version": 3
   },
   "file_extension": ".py",
   "mimetype": "text/x-python",
   "name": "python",
   "nbconvert_exporter": "python",
   "pygments_lexer": "ipython3",
   "version": "3.9.12"
  }
 },
 "nbformat": 4,
 "nbformat_minor": 5
}
